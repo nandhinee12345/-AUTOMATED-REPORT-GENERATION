{
 "cells": [
  {
   "cell_type": "code",
   "execution_count": 1,
   "id": "325ada0c-c93a-4f81-9405-3e5574f86d89",
   "metadata": {},
   "outputs": [
    {
     "name": "stdout",
     "output_type": "stream",
     "text": [
      "✅ PDF report created: enhanced_report.pdf\n"
     ]
    }
   ],
   "source": [
    "import pandas as pd\n",
    "import matplotlib.pyplot as plt\n",
    "from reportlab.lib.pagesizes import letter\n",
    "from reportlab.pdfgen import canvas\n",
    "import os\n",
    "\n",
    "# === CONFIGURATION ===\n",
    "CSV_FILE = \"C:\\\\Users\\\\Dell\\\\OneDrive\\\\Documents\\\\data.csv\"\n",
    "PDF_FILE = \"enhanced_report.pdf\"\n",
    "CHART_FILE = \"pie_chart.png\"\n",
    "\n",
    "# === 1. DATA PROCESSING ===\n",
    "df = pd.read_csv(CSV_FILE)\n",
    "average = df[\"Score\"].mean()\n",
    "highest = df[\"Score\"].max()\n",
    "lowest = df[\"Score\"].min()\n",
    "topper = df.loc[df['Score'].idxmax(), 'Name']\n",
    "\n",
    "# === 2. PIE CHART ===\n",
    "plt.figure(figsize=(5, 5))\n",
    "plt.pie(df['Score'], labels=df['Name'], autopct='%1.1f%%', startangle=140)\n",
    "plt.title(\"Score Distribution\")\n",
    "plt.savefig(CHART_FILE)\n",
    "plt.close()\n",
    "\n",
    "# === 3. MULTI-PAGE PDF REPORT ===\n",
    "pdf = canvas.Canvas(PDF_FILE, pagesize=letter)\n",
    "\n",
    "# Page 1: Summary\n",
    "pdf.setFont(\"Helvetica-Bold\", 16)\n",
    "pdf.drawString(180, 750, \"Student Performance Report\")\n",
    "pdf.setFont(\"Helvetica\", 12)\n",
    "pdf.drawString(50, 700, f\"Average Score: {average:.2f}\")\n",
    "pdf.drawString(50, 680, f\"Highest Score: {highest}\")\n",
    "pdf.drawString(50, 660, f\"Lowest Score: {lowest}\")\n",
    "pdf.drawString(50, 640, f\"Top Scorer: {topper}\")\n",
    "\n",
    "# Page 2: Table\n",
    "pdf.showPage()\n",
    "pdf.setFont(\"Helvetica-Bold\", 14)\n",
    "pdf.drawString(50, 750, \"Detailed Scores\")\n",
    "pdf.setFont(\"Helvetica-Bold\", 12)\n",
    "pdf.drawString(50, 720, \"Name\")\n",
    "pdf.drawString(200, 720, \"Score\")\n",
    "pdf.setFont(\"Helvetica\", 12)\n",
    "y = 700\n",
    "for _, row in df.iterrows():\n",
    "    pdf.drawString(50, y, row[\"Name\"])\n",
    "    pdf.drawString(200, y, str(row[\"Score\"]))\n",
    "    y -= 20\n",
    "\n",
    "# Page 3: Chart\n",
    "pdf.showPage()\n",
    "pdf.setFont(\"Helvetica-Bold\", 14)\n",
    "pdf.drawString(200, 750, \"Score Distribution Chart\")\n",
    "pdf.drawImage(CHART_FILE, 100, 400, width=350, height=300)\n",
    "\n",
    "pdf.save()\n",
    "os.remove(CHART_FILE)  # Clean up temp image\n",
    "\n",
    "print(\"✅ PDF report created:\", PDF_FILE)\n",
    "\n",
    "\n",
    "\n",
    "   "
   ]
  },
  {
   "cell_type": "code",
   "execution_count": null,
   "id": "5a0d06e3-e1cc-4fb0-aded-453bbf87325f",
   "metadata": {},
   "outputs": [],
   "source": []
  }
 ],
 "metadata": {
  "kernelspec": {
   "display_name": "Python [conda env:base] *",
   "language": "python",
   "name": "conda-base-py"
  },
  "language_info": {
   "codemirror_mode": {
    "name": "ipython",
    "version": 3
   },
   "file_extension": ".py",
   "mimetype": "text/x-python",
   "name": "python",
   "nbconvert_exporter": "python",
   "pygments_lexer": "ipython3",
   "version": "3.12.7"
  }
 },
 "nbformat": 4,
 "nbformat_minor": 5
}
